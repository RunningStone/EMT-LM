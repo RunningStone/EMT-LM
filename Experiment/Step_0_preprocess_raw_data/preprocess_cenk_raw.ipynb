{
 "cells": [
  {
   "cell_type": "code",
   "execution_count": 1,
   "metadata": {},
   "outputs": [],
   "source": [
    "root = \"/home/shi/WorkSpace/projects/scMultiNet_workspace/\"\n",
    "save_root = \"/home/shi/WorkSpace/projects/scMultiNet_Data/Step_0_data/\"\n",
    "import sys\n",
    "sys.path.append(root )"
   ]
  },
  {
   "cell_type": "code",
   "execution_count": 2,
   "metadata": {},
   "outputs": [],
   "source": [
    "# start with a vocab list\n",
    "# this related with the gene2vec model\n",
    "#----> pre-trained part\n",
    "vocab_loc = root +\"/support_data/vocab_gene2vec_16906.pkl\"\n",
    "target_label = 'QuiescenceStatus' # the label to be predicted"
   ]
  },
  {
   "cell_type": "code",
   "execution_count": 3,
   "metadata": {},
   "outputs": [],
   "source": [
    "\n",
    "data_path = \"/home/shi/WorkSpace/projects/scMultiNet_Data/Step_0_data/adata_from_cenk_raw_2024-03-24.h5ad\""
   ]
  },
  {
   "cell_type": "code",
   "execution_count": 4,
   "metadata": {},
   "outputs": [
    {
     "name": "stdout",
     "output_type": "stream",
     "text": [
      "AnnData object with n_obs × n_vars = 85749 × 33541\n",
      "    obs: 'orig.ident', 'type', 'celltype', 'QuiescenceScore', 'QuiescenceStatus', 'ident'\n",
      "    uns: 'X_name'\n",
      "    layers: 'logcounts'\n"
     ]
    }
   ],
   "source": [
    "# check the data\n",
    "import scanpy as sc\n",
    "import pandas as pd\n",
    "import numpy as np\n",
    "\n",
    "adata = sc.read(data_path)\n",
    "print(adata)\n"
   ]
  },
  {
   "cell_type": "code",
   "execution_count": 5,
   "metadata": {},
   "outputs": [
    {
     "data": {
      "text/plain": [
       "Gao2021_AAACCTGCAGTGACAG                 Gao2021\n",
       "Gao2021_AAACCTGGTCGAGATG                 Gao2021\n",
       "Gao2021_AAACGGGGTGCACTTA                 Gao2021\n",
       "Gao2021_AAACGGGTCACGGTTA                 Gao2021\n",
       "Gao2021_AAAGATGAGCAGACTG                 Gao2021\n",
       "                                          ...   \n",
       "Qian2020_sc5rJUQ064_TTTGGTTTCTCTTATG    Qian2020\n",
       "Qian2020_sc5rJUQ064_TTTGGTTTCTGCCCTA    Qian2020\n",
       "Qian2020_sc5rJUQ064_TTTGTCAAGCCAGAAC    Qian2020\n",
       "Qian2020_sc5rJUQ064_TTTGTCAAGGACGAAA    Qian2020\n",
       "Qian2020_sc5rJUQ064_TTTGTCAGTCTTGTCC    Qian2020\n",
       "Name: orig.ident, Length: 85749, dtype: category\n",
       "Categories (3, object): ['Gao2021', 'Pal2021', 'Qian2020']"
      ]
     },
     "execution_count": 5,
     "metadata": {},
     "output_type": "execute_result"
    }
   ],
   "source": [
    "adata.obs['orig.ident']"
   ]
  },
  {
   "cell_type": "code",
   "execution_count": 6,
   "metadata": {},
   "outputs": [
    {
     "name": "stdout",
     "output_type": "stream",
     "text": [
      "['Slow_cycling', 'Fast_cycling', 'G0_arrested']\n",
      "Categories (3, object): ['Fast_cycling', 'G0_arrested', 'Slow_cycling']\n",
      "['PIP.luminal', 'Cyc.Lac', 'Sec.luminal', 'Basal', 'SAA2.luminal', 'SCGB3A1.Pro', 'Cyc.Pro']\n",
      "Categories (7, object): ['Basal', 'Cyc.Lac', 'Cyc.Pro', 'PIP.luminal', 'SAA2.luminal', 'SCGB3A1.Pro', 'Sec.luminal']\n"
     ]
    }
   ],
   "source": [
    "print(adata.obs[\"QuiescenceStatus\"].unique())\n",
    "print(adata.obs[\"celltype\"].unique())\n"
   ]
  },
  {
   "cell_type": "code",
   "execution_count": 7,
   "metadata": {},
   "outputs": [
    {
     "name": "stdout",
     "output_type": "stream",
     "text": [
      "Dataset_para(var_idx=None, obs_idx='QuiescenceStatus', vocab_loc='/home/shi/WorkSpace/projects/scLLM_workspace/vocab_16k.json', gene_vocab=None, use_key='X', filter_gene_by_counts=False, filter_cell_by_counts=200, normalize_total=10000.0, result_normed_key='X_normed', log1p=True, result_log1p_key='X_log1p', log1p_base=2, subset_hvg=False, hvg_use_key=None, hvg_flavor='seurat_v3', binning=None, result_binned_key='X_binned', tokenize_name='scBERT', return_pt=True, append_cls=True, include_zero_gene=False, cls_token='<cls>', max_len=16000, pad_token='<pad>', pad_value=-2, cls_appended=True, mask_ratio=0.15, mask_value=-1, preprocessed_loc=None, data_layer_name='X_log1p', label_key='QuiescenceStatus', batch_label_key=None, cls_nb=5, binarize=None, bins=None, bin_min=None, bin_max=None, save_in_obs=True, auto_map_str_labels=True, map_dict=None, n_splits=1, test_size=None, random_state=2023, shuffle=True, sort_seq_batch=False)\n"
     ]
    }
   ],
   "source": [
    "\n",
    "from scLLM.Dataset.paras import Dataset_para\n",
    "# define pre-processing by follow original implementation of scBERT\n",
    "\n",
    "from scLLM.Dataset.paras import Dataset_para\n",
    "# define pre-processing by follow original implementation of scBERT\n",
    "dataset_para_cls = Dataset_para(\n",
    "                            var_idx=None,\n",
    "                            obs_idx=\"QuiescenceStatus\",\n",
    "                            vocab_loc=\"/home/shi/WorkSpace/projects/scLLM_workspace/vocab_16k.json\",\n",
    "                            filter_gene_by_counts=False,\n",
    "                            filter_cell_by_counts=200,\n",
    "                            log1p=True,\n",
    "                            log1p_base=2,\n",
    "\n",
    "                            #\n",
    "                            tokenize_name=\"scBERT\",\n",
    "                            cls_nb=5,\n",
    "                            data_layer_name=\"X_log1p\",\n",
    "                            label_key = target_label,#\"Ground_truth\",#\"Ground_truth\",\n",
    "\n",
    "                            test_size=None,#0.2, #use all data to inference\n",
    "                            binarize=None, # not binarize use original label\n",
    "\n",
    "                            )\n",
    "\n",
    "dataset_para_reg = Dataset_para(\n",
    "        vocab_loc=\"/home/shi/WorkSpace/projects/scLLM_workspace/vocab_16k.json\",\n",
    "        var_idx = None,#\"genes.gene_short_name\",\n",
    "        obs_idx=\"pseudotimes\",\n",
    "        filter_gene_by_counts=False,\n",
    "        filter_cell_by_counts=200,\n",
    "        log1p=True,\n",
    "        log1p_base=2,\n",
    "\n",
    "        tokenize_name=\"scBERT\",\n",
    "        cls_nb=1,\n",
    "        data_layer_name=\"X_log1p\",\n",
    "\n",
    "        auto_map_str_labels=False,\n",
    "        label_key = target_label,#\"pseudotimes\",\n",
    "\n",
    "        test_size=0.2,#0.2, #use all data to inference\n",
    "        binarize=None, # not binarize use original label for regression\n",
    "    )\n",
    "\n",
    "dataset_para = dataset_para_cls#dataset_para_cls\n",
    "print(dataset_para)"
   ]
  },
  {
   "cell_type": "code",
   "execution_count": 8,
   "metadata": {},
   "outputs": [
    {
     "name": "stderr",
     "output_type": "stream",
     "text": [
      "/home/shi/anaconda3/envs/scLLM/lib/python3.9/site-packages/tqdm/auto.py:21: TqdmWarning: IProgress not found. Please update jupyter and ipywidgets. See https://ipywidgets.readthedocs.io/en/stable/user_install.html\n",
      "  from .autonotebook import tqdm as notebook_tqdm\n",
      "scLLM - INFO - Initializing preprocessor ...\n",
      "scLLM - INFO - use default vocab from dataset_para\n",
      "scLLM - INFO - load vocab from /home/shi/WorkSpace/projects/scLLM_workspace/vocab_16k.json\n",
      "scLLM - INFO - Load data from anndata object.\n",
      "scLLM - DEBUG - In original adata with gene 33541\n",
      "scLLM - DEBUG - In original adata with gene 33541\n",
      "scLLM - DEBUG - processing 0/16906\n",
      "scLLM - DEBUG - processing 2000/16906\n",
      "scLLM - DEBUG - processing 4000/16906\n",
      "scLLM - DEBUG - processing 6000/16906\n",
      "scLLM - DEBUG - processing 8000/16906\n",
      "scLLM - DEBUG - processing 10000/16906\n",
      "scLLM - DEBUG - processing 12000/16906\n",
      "scLLM - DEBUG - processing 14000/16906\n",
      "scLLM - DEBUG - processing 16000/16906\n",
      "scLLM - INFO - create anndata in scLLM format..\n",
      "scLLM - DEBUG - restore anndata in scLLM format..\n",
      "scLLM - INFO - Done.\n"
     ]
    }
   ],
   "source": [
    "# if this is the first time to run, need this block to init translate=True\n",
    "# init preprocessor\n",
    "from scLLM.Dataset.Reader import scReader\n",
    "screader = scReader(dataset_para=dataset_para)\n",
    "# init vocab\n",
    "screader.init_vocab()\n",
    "\n",
    "# load data\n",
    "screader.load_adata(loc = data_path,translate=True)\n",
    "\n"
   ]
  },
  {
   "cell_type": "code",
   "execution_count": 9,
   "metadata": {},
   "outputs": [],
   "source": [
    "screader.adata.obs[\"data_source\"] = adata.obs['orig.ident']\n",
    "screader.adata.obs[\"celltype\"] = adata.obs['celltype']\n",
    "screader.adata.obs[\"QuiescenceScore\"] = adata.obs['QuiescenceScore']"
   ]
  },
  {
   "cell_type": "code",
   "execution_count": 10,
   "metadata": {},
   "outputs": [
    {
     "data": {
      "text/plain": [
       "AnnData object with n_obs × n_vars = 85749 × 16906\n",
       "    obs: 'QuiescenceStatus', 'data_source', 'celltype', 'QuiescenceScore'"
      ]
     },
     "execution_count": 10,
     "metadata": {},
     "output_type": "execute_result"
    }
   ],
   "source": [
    "screader.adata"
   ]
  },
  {
   "cell_type": "code",
   "execution_count": 11,
   "metadata": {},
   "outputs": [
    {
     "name": "stderr",
     "output_type": "stream",
     "text": [
      "scLLM - INFO - Preprocessing data with shape: (85749, 16906) ...\n",
      "scLLM - INFO - Filtering cells by counts ...\n",
      "scLLM - INFO - Filtered cells: 85749\n",
      "scLLM - INFO - Normalizing total counts ...\n",
      "scLLM - INFO - Log1p transforming ...\n",
      "scLLM - INFO - Preprocessing finished.\n"
     ]
    }
   ],
   "source": [
    "## preprocess\n",
    "screader.preprocess()"
   ]
  },
  {
   "cell_type": "code",
   "execution_count": 12,
   "metadata": {},
   "outputs": [],
   "source": [
    "# if not the first run \n",
    "# -----> 读取数据集\n",
    "#from scLLM.Dataset.Reader import scReader\n",
    "#data_reader = scReader(dataset_para)\n",
    "# init vocab from default file loc or from list/dict given as params\n",
    "#data_reader.init_vocab()\n",
    "#load anndata\n",
    "#data_reader.load_adata(loc = data_path,translate=False)\n",
    "data_reader = screader"
   ]
  },
  {
   "cell_type": "code",
   "execution_count": 13,
   "metadata": {},
   "outputs": [
    {
     "name": "stdout",
     "output_type": "stream",
     "text": [
      "选择前的数据矩阵形状 (85749, 16906)\n",
      "选择后的数据矩阵形状 (85749, 16906)\n"
     ]
    }
   ],
   "source": [
    "target_stimulate = \"TGFb\"\n",
    "target_cellline = None #\"A549\" 'DU145', 'MCF7', 'OVCA420'\n",
    "map_stimulus = False\n",
    "map_cancer_type = False\n",
    "\n",
    "print(f\"选择前的数据矩阵形状 {data_reader.adata.shape}\")\n",
    "if map_stimulus:\n",
    "    stimilus_map = data_reader.adata.obs['stimulus']==target_stimulate\n",
    "    # filter out cells that are not stimulated by TGFb\n",
    "    new_adata = data_reader.adata[stimilus_map,:]\n",
    "    data_reader.adata = new_adata\n",
    "\n",
    "if map_cancer_type:\n",
    "    cancer_type_map = data_reader.adata.obs['CellLine']==target_cellline\n",
    "    # filter out cells that are not stimulated by TGFb\n",
    "    new_adata = data_reader.adata[cancer_type_map,:]\n",
    "    data_reader.adata = new_adata\n",
    "\n",
    "print(f\"选择后的数据矩阵形状 {data_reader.adata.shape}\")"
   ]
  },
  {
   "cell_type": "code",
   "execution_count": 14,
   "metadata": {},
   "outputs": [
    {
     "name": "stdout",
     "output_type": "stream",
     "text": [
      "['Slow_cycling', 'Fast_cycling', 'G0_arrested']\n",
      "Categories (3, object): ['Fast_cycling', 'G0_arrested', 'Slow_cycling']\n"
     ]
    }
   ],
   "source": [
    "label_unique = data_reader.adata.obs[dataset_para.label_key].unique()\n",
    "print(label_unique)\n",
    "# 'Slow_cycling', 'Fast_cycling', 'G0_arrested'\n",
    "label_dict = {'G0_arrested':0, 'Slow_cycling':1, 'Fast_cycling':2, }"
   ]
  },
  {
   "cell_type": "code",
   "execution_count": 15,
   "metadata": {},
   "outputs": [
    {
     "data": {
      "text/plain": [
       "Gao2021_AAACCTGCAGTGACAG                Slow_cycling\n",
       "Gao2021_AAACCTGGTCGAGATG                Slow_cycling\n",
       "Gao2021_AAACGGGGTGCACTTA                Slow_cycling\n",
       "Gao2021_AAACGGGTCACGGTTA                Fast_cycling\n",
       "Gao2021_AAAGATGAGCAGACTG                Fast_cycling\n",
       "                                            ...     \n",
       "Qian2020_sc5rJUQ064_TTTGGTTTCTCTTATG    Slow_cycling\n",
       "Qian2020_sc5rJUQ064_TTTGGTTTCTGCCCTA    Slow_cycling\n",
       "Qian2020_sc5rJUQ064_TTTGTCAAGCCAGAAC    Slow_cycling\n",
       "Qian2020_sc5rJUQ064_TTTGTCAAGGACGAAA    Slow_cycling\n",
       "Qian2020_sc5rJUQ064_TTTGTCAGTCTTGTCC    Slow_cycling\n",
       "Name: QuiescenceStatus, Length: 85749, dtype: category\n",
       "Categories (3, object): ['Fast_cycling', 'G0_arrested', 'Slow_cycling']"
      ]
     },
     "execution_count": 15,
     "metadata": {},
     "output_type": "execute_result"
    }
   ],
   "source": [
    "data_reader.adata.obs[dataset_para.label_key]"
   ]
  },
  {
   "cell_type": "code",
   "execution_count": 16,
   "metadata": {},
   "outputs": [
    {
     "name": "stderr",
     "output_type": "stream",
     "text": [
      "scLLM - INFO - Map string labels to int automatically.\n",
      "scLLM - INFO - Mapping from {'Slow_cycling': 0, 'Fast_cycling': 1, 'G0_arrested': 2}\n",
      "scLLM - INFO - Discritize label QuiescenceStatus in obs_names\n"
     ]
    },
    {
     "name": "stdout",
     "output_type": "stream",
     "text": [
      "trainset size:  85749\n",
      "no valset\n",
      "{'G0_arrested': 0, 'Slow_cycling': 1, 'Fast_cycling': 2}\n",
      "weights:  None\n"
     ]
    }
   ],
   "source": [
    "trainset,valset,weights = data_reader.postprocess()\n",
    "\n",
    "# 输出数据集信息\n",
    "print(\"trainset size: \",len(trainset))\n",
    "print(\"valset size: \",len(valset)) if valset is not None else print(\"no valset\")\n",
    "print(label_dict)\n",
    "print(\"weights: \",weights)"
   ]
  },
  {
   "cell_type": "code",
   "execution_count": 19,
   "metadata": {},
   "outputs": [],
   "source": [
    "# add sample id to the trainset \n",
    "trainset.sample_id = list(data_reader.adata.obs.index)\n",
    "trainset.q_score = list(data_reader.adata.obs[\"QuiescenceScore\"])\n",
    "trainset.celltype = list(data_reader.adata.obs[\"celltype\"])\n",
    "trainset.data_source = list(data_reader.adata.obs[\"data_source\"])"
   ]
  },
  {
   "cell_type": "code",
   "execution_count": 20,
   "metadata": {},
   "outputs": [],
   "source": [
    "import dill\n",
    "# 为trainset 添加其他labels\n",
    "\n",
    "dataset_from = \"/Dataset_Cenk_Q/\"\n",
    "#target_task = f\"/TrVal_dataset_GT_{target_stimulate}_{target_cellline}.pkl\"\n",
    "target_task = f\"/TrVal_dataset_{target_label}.pkl\"\n",
    "#loc = save_root + dataset_from + target_task\n",
    "loc = \"/home/shi/WorkSpace/projects/scMultiNet_Data/Step_1_data/Dataset_Cenk_Q/\"+target_task\n",
    "# 保存 trainset 到文件，并关联相应labels\n",
    "with open(loc,\"wb\") as f:\n",
    "    dill.dump([trainset,valset,weights,label_dict],f)"
   ]
  }
 ],
 "metadata": {
  "kernelspec": {
   "display_name": "scLLM",
   "language": "python",
   "name": "python3"
  },
  "language_info": {
   "codemirror_mode": {
    "name": "ipython",
    "version": 3
   },
   "file_extension": ".py",
   "mimetype": "text/x-python",
   "name": "python",
   "nbconvert_exporter": "python",
   "pygments_lexer": "ipython3",
   "version": "3.9.16"
  }
 },
 "nbformat": 4,
 "nbformat_minor": 2
}
